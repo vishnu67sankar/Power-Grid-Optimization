{
 "cells": [
  {
   "cell_type": "code",
   "execution_count": 1,
   "id": "dc0dfa14",
   "metadata": {},
   "outputs": [],
   "source": [
    "# from google.colab import drive\n",
    "# drive.mount('/content/drive', force_remount=True)"
   ]
  },
  {
   "cell_type": "code",
   "execution_count": 2,
   "id": "82637b61",
   "metadata": {},
   "outputs": [],
   "source": [
    "# %cd /content/drive/MyDrive/Power\\ Grid\\ Optimization"
   ]
  },
  {
   "cell_type": "code",
   "execution_count": 3,
   "id": "6699be23",
   "metadata": {},
   "outputs": [],
   "source": [
    "# !pip install torch\n",
    "# !pip install torch-geometric\n",
    "# !pip install pandas openpyxl\n",
    "# !pip install pandapower"
   ]
  },
  {
   "cell_type": "code",
   "execution_count": 4,
   "id": "905f033d",
   "metadata": {},
   "outputs": [],
   "source": [
    "# !pip install -e ."
   ]
  },
  {
   "cell_type": "code",
   "execution_count": 5,
   "id": "ed4bae3c",
   "metadata": {},
   "outputs": [],
   "source": [
    "# %cd /content/drive/MyDrive/Power\\ Grid\\ Optimization/powergrid_torch/data/14Bus/"
   ]
  },
  {
   "cell_type": "code",
   "execution_count": 6,
   "id": "5364509a",
   "metadata": {},
   "outputs": [],
   "source": [
    "import numpy as np\n",
    "import pandas as pd\n",
    "import torch\n",
    "from powergrid_torch.utils import pre_processing\n",
    "import os\n",
    "from powergrid_torch.models.gnn import GNNModel\n",
    "from powergrid_torch.models.transformer import GraphTransformerModel\n",
    "from powergrid_torch.training import train\n",
    "from powergrid_torch.utils.extras import summary"
   ]
  },
  {
   "cell_type": "code",
   "execution_count": 7,
   "id": "744edd6e",
   "metadata": {},
   "outputs": [],
   "source": [
    "path_data = os.path.join(os.getcwd(), r'../data/14Bus/')\n",
    "train_df = pd.read_excel(os.path.join(path_data, 'PF_Dataset_1.xlsx')).values\n",
    "val_df = pd.read_excel(os.path.join(path_data, 'PF_Dataset_2.xlsx')).values"
   ]
  },
  {
   "cell_type": "code",
   "execution_count": 8,
   "id": "b9d557fc",
   "metadata": {},
   "outputs": [
    {
     "name": "stdout",
     "output_type": "stream",
     "text": [
      "--------------------Data preparation completed successfully--------------------\n"
     ]
    },
    {
     "name": "stderr",
     "output_type": "stream",
     "text": [
      "d:\\softwares\\anaconda\\anaconda3\\envs\\raikou\\Lib\\site-packages\\torch_geometric\\deprecation.py:26: UserWarning: 'data.DataLoader' is deprecated, use 'loader.DataLoader' instead\n",
      "  warnings.warn(out)\n"
     ]
    }
   ],
   "source": [
    "stats_result = pre_processing.stats(train_df, val_df, 1., 1., 14)\n",
    "\n",
    "for idx, val in enumerate(stats_result):\n",
    "    val = val.to(device='cuda')\n",
    "    stats_result[idx] = val\n",
    "    \n",
    "y_norm_train = stats_result[1]\n",
    "y_train_mean = stats_result[3]\n",
    "y_train_std = stats_result[5]\n",
    "\n",
    "y_norm_val = stats_result[7]\n",
    "y_val_mean = stats_result[9]\n",
    "y_val_std = stats_result[11]\n",
    "\n",
    "\n",
    "train_loader, val_loader = pre_processing.main(train_df, val_df, 1., 1., 14)"
   ]
  },
  {
   "cell_type": "code",
   "execution_count": 9,
   "id": "648c4400",
   "metadata": {},
   "outputs": [
    {
     "name": "stdout",
     "output_type": "stream",
     "text": [
      "cuda\n"
     ]
    }
   ],
   "source": [
    "device = pre_processing.get_default_device()\n",
    "print(device)"
   ]
  },
  {
   "cell_type": "code",
   "execution_count": 10,
   "id": "1c7f1e40",
   "metadata": {},
   "outputs": [
    {
     "name": "stdout",
     "output_type": "stream",
     "text": [
      "DataBatch(x=[224, 5], edge_index=[2, 480], y=[224, 2], batch=[224], ptr=[17])\n"
     ]
    }
   ],
   "source": [
    "for x in train_loader:\n",
    "    print(x)\n",
    "    break"
   ]
  },
  {
   "cell_type": "code",
   "execution_count": null,
   "id": "0644462a",
   "metadata": {},
   "outputs": [],
   "source": [
    "train_loader = pre_processing.DeviceDataLoader(train_loader, device)\n",
    "val_loader = pre_processing.DeviceDataLoader(val_loader, device)\n",
    "\n",
    "def model_run(gnn_type = 'GCN', n_epochs = 5, lambda_l2 = 1e-6, n_bus = 14):\n",
    "    \n",
    "    if (gnn_type != 'GraphTransformer'):\n",
    "        model = pre_processing.to_device(GNNModel(in_channels=5, hidden_channels=8, out_channels=2, n_bus=14, gnn_type=gnn_type, is_batch_norm='False', is_dropout=0), device)\n",
    "\n",
    "    elif (gnn_type == 'GraphTransformer'):\n",
    "        model = pre_processing.to_device(GraphTransformerModel(in_channels=5, hidden_channels=8, out_channels=2, n_transformer_layers=2, n_heads=3, concat_heads=True), device)\n",
    "\n",
    "\n",
    "    optimizer = torch.optim.Adam(model.parameters(), lr=5e-5, weight_decay=lambda_l2)\n",
    "    scheduler = torch.optim.lr_scheduler.ReduceLROnPlateau(optimizer, mode='min', factor=0.5, patience=20, verbose=True)\n",
    "    \n",
    "    summary(model)\n",
    "    history = train.fit(n_epochs, 0.001, model, train_loader, val_loader, optimizer, scheduler, y_train_mean, y_train_std, y_val_mean, y_val_std, n_bus)\n",
    "    return history\n"
   ]
  },
  {
   "cell_type": "code",
   "execution_count": 12,
   "id": "185dd909",
   "metadata": {},
   "outputs": [
    {
     "name": "stderr",
     "output_type": "stream",
     "text": [
      "d:\\softwares\\anaconda\\anaconda3\\envs\\raikou\\Lib\\site-packages\\torch\\optim\\lr_scheduler.py:62: UserWarning: The verbose parameter is deprecated. Please use get_last_lr() to access the learning rate.\n",
      "  warnings.warn(\n"
     ]
    },
    {
     "name": "stdout",
     "output_type": "stream",
     "text": [
      "--- Model Summary ---\n",
      "GraphTransformerModel(\n",
      "  (transformer_layers): ModuleList(\n",
      "    (0): TransformerConv(5, 8, heads=3)\n",
      "    (1): TransformerConv(24, 8, heads=3)\n",
      "  )\n",
      "  (relu): ReLU()\n",
      "  (dropout): Dropout(p=0.0, inplace=False)\n",
      "  (final_projection): Linear(in_features=24, out_features=2, bias=True)\n",
      ")\n",
      "\n",
      "====================================================================================================\n",
      "\n",
      "--- Detailed Parameter Summary ---\n",
      "transformer_layers.0.lin_key.weight                [24, 5]              120\n",
      "transformer_layers.0.lin_key.bias                  [24]                 24\n",
      "transformer_layers.0.lin_query.weight              [24, 5]              120\n",
      "transformer_layers.0.lin_query.bias                [24]                 24\n",
      "transformer_layers.0.lin_value.weight              [24, 5]              120\n",
      "transformer_layers.0.lin_value.bias                [24]                 24\n",
      "transformer_layers.0.lin_skip.weight               [24, 5]              120\n",
      "transformer_layers.0.lin_skip.bias                 [24]                 24\n",
      "transformer_layers.1.lin_key.weight                [24, 24]             576\n",
      "transformer_layers.1.lin_key.bias                  [24]                 24\n",
      "transformer_layers.1.lin_query.weight              [24, 24]             576\n",
      "transformer_layers.1.lin_query.bias                [24]                 24\n",
      "transformer_layers.1.lin_value.weight              [24, 24]             576\n",
      "transformer_layers.1.lin_value.bias                [24]                 24\n",
      "transformer_layers.1.lin_skip.weight               [24, 24]             576\n",
      "transformer_layers.1.lin_skip.bias                 [24]                 24\n",
      "final_projection.weight                            [2, 24]              48\n",
      "final_projection.bias                              [2]                  2\n",
      "\n",
      " Total Trainable Params: 3026\n",
      "\n",
      "====================================================================================================\n",
      "\n",
      "Epoch[0], train_loss: 0.96109, val_loss: 0.99153\n",
      "Epoch[1], train_loss: 0.9244, val_loss: 0.95663\n",
      "Epoch[2], train_loss: 0.89317, val_loss: 0.92511\n",
      "Epoch[3], train_loss: 0.86291, val_loss: 0.89074\n",
      "Epoch[4], train_loss: 0.82636, val_loss: 0.84947\n",
      "Epoch[5], train_loss: 0.78995, val_loss: 0.81438\n",
      "Epoch[6], train_loss: 0.75912, val_loss: 0.78507\n",
      "Epoch[7], train_loss: 0.7335, val_loss: 0.76124\n",
      "Epoch[8], train_loss: 0.71317, val_loss: 0.74288\n",
      "Epoch[9], train_loss: 0.69791, val_loss: 0.72953\n"
     ]
    }
   ],
   "source": [
    "history_transformer = model_run(\"GraphTransformer\", n_epochs=10)    "
   ]
  },
  {
   "cell_type": "code",
   "execution_count": 13,
   "id": "1ce93ae9",
   "metadata": {},
   "outputs": [
    {
     "name": "stdout",
     "output_type": "stream",
     "text": [
      "--- Model Summary ---\n",
      "GNNModel(\n",
      "  (conv1): GCNConv(5, 8)\n",
      "  (conv2): GCNConv(8, 8)\n",
      "  (conv_out): GCNConv(8, 2)\n",
      "  (bn1): BatchNorm1d(8, eps=1e-05, momentum=0.1, affine=True, track_running_stats=True)\n",
      "  (bn2): BatchNorm1d(8, eps=1e-05, momentum=0.1, affine=True, track_running_stats=True)\n",
      "  (relu1): ReLU()\n",
      "  (relu2): ReLU()\n",
      "  (linear): Linear(in_features=112, out_features=28, bias=True)\n",
      ")\n",
      "\n",
      "====================================================================================================\n",
      "\n",
      "--- Detailed Parameter Summary ---\n",
      "conv1.bias                                         [8]                  8\n",
      "conv1.lin.weight                                   [8, 5]               40\n",
      "conv2.bias                                         [8]                  8\n",
      "conv2.lin.weight                                   [8, 8]               64\n",
      "conv_out.bias                                      [2]                  2\n",
      "conv_out.lin.weight                                [2, 8]               16\n",
      "bn1.weight                                         [8]                  8\n",
      "bn1.bias                                           [8]                  8\n",
      "bn2.weight                                         [8]                  8\n",
      "bn2.bias                                           [8]                  8\n",
      "linear.weight                                      [28, 112]            3136\n",
      "linear.bias                                        [28]                 28\n",
      "\n",
      " Total Trainable Params: 3334\n",
      "\n",
      "====================================================================================================\n",
      "\n",
      "Epoch[0], train_loss: 0.92831, val_loss: 0.96731\n",
      "Epoch[1], train_loss: 0.90704, val_loss: 0.94547\n",
      "Epoch[2], train_loss: 0.88624, val_loss: 0.92259\n",
      "Epoch[3], train_loss: 0.86382, val_loss: 0.89767\n",
      "Epoch[4], train_loss: 0.8393, val_loss: 0.87056\n",
      "Epoch[5], train_loss: 0.81273, val_loss: 0.84146\n",
      "Epoch[6], train_loss: 0.78443, val_loss: 0.81075\n",
      "Epoch[7], train_loss: 0.75479, val_loss: 0.77889\n",
      "Epoch[8], train_loss: 0.7243, val_loss: 0.74649\n",
      "Epoch[9], train_loss: 0.69355, val_loss: 0.71413\n"
     ]
    }
   ],
   "source": [
    "history_gcn = model_run(gnn_type='GCN', n_epochs=10)"
   ]
  },
  {
   "cell_type": "code",
   "execution_count": 14,
   "id": "5992c7e0",
   "metadata": {},
   "outputs": [],
   "source": [
    "# history_GraphConv = model_run(gnn_type='GraphConv')"
   ]
  },
  {
   "cell_type": "code",
   "execution_count": 15,
   "id": "0f4d876e",
   "metadata": {},
   "outputs": [],
   "source": [
    "# history_SAGEConv = model_run(gnn_type='SAGEConv')"
   ]
  },
  {
   "cell_type": "code",
   "execution_count": null,
   "id": "deb9d612",
   "metadata": {},
   "outputs": [],
   "source": [
    "# history_GATConv = model_run(gnn_type='GATConv')"
   ]
  },
  {
   "cell_type": "code",
   "execution_count": 17,
   "id": "4825ee11",
   "metadata": {},
   "outputs": [],
   "source": [
    "# history_ChebConv = model_run(gnn_type='ChebConv')"
   ]
  },
  {
   "cell_type": "code",
   "execution_count": null,
   "id": "e98c4f11",
   "metadata": {},
   "outputs": [],
   "source": []
  }
 ],
 "metadata": {
  "kernelspec": {
   "display_name": "raikou",
   "language": "python",
   "name": "python3"
  },
  "language_info": {
   "codemirror_mode": {
    "name": "ipython",
    "version": 3
   },
   "file_extension": ".py",
   "mimetype": "text/x-python",
   "name": "python",
   "nbconvert_exporter": "python",
   "pygments_lexer": "ipython3",
   "version": "3.11.11"
  }
 },
 "nbformat": 4,
 "nbformat_minor": 5
}
